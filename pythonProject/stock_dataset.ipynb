{
 "cells": [
  {
   "cell_type": "code",
   "execution_count": 1,
   "id": "initial_id",
   "metadata": {
    "collapsed": true,
    "ExecuteTime": {
     "end_time": "2023-12-30T22:48:11.293464100Z",
     "start_time": "2023-12-30T22:48:07.515088700Z"
    }
   },
   "outputs": [],
   "source": [
    "import sqlalchemy\n",
    "import pandas as pd\n",
    "import torch as T\n",
    "from torch.utils.data import Dataset\n",
    "\n",
    "\n",
    "class SqliteDataSet(Dataset):\n",
    "    def __init__(self,\n",
    "                 sqlite_rul='sqlite:///D:\\\\sqlite\\\\data\\\\finance.db',\n",
    "                 query='select * from STOCK_DAILY',\n",
    "                 transform=None):\n",
    "\n",
    "        self.engine = sqlalchemy.create_engine('sqlite:///D:\\\\sqlite\\\\data\\\\finance.db')\n",
    "        self.transform = transform\n",
    "        self.result_set = pd.read_sql_query(query,self.engine.connect())\n",
    "        self.length = self.result_set.shape[0]\n",
    "\n",
    "    def __getitem__(self, index) -> T.Tuple[T.Tensor,int]:\n",
    "        data = self.result_set.loc[index]\n",
    "        rate = ( data['Y_CLOSE5_MAX'] - data['Close'] ) / data['Close'] * 100\n",
    "        x = T.tensor(data.drop('Y_CLOSE5_MAX')).to(T.float32)        \n",
    "        if rate > 5:\n",
    "            y = 5\n",
    "        elif 2 < rate < 5:\n",
    "            y = 4\n",
    "        elif rate < -5:\n",
    "            y = 1\n",
    "        elif rate < -2:\n",
    "            y = 2\n",
    "        else:\n",
    "            y = 3          \n",
    "       \n",
    "        if self.transform:\n",
    "            x = self.transform(x)\n",
    "        return x, y\n",
    "\n",
    "    def __len__(self):\n",
    "        return self.length"
   ]
  },
  {
   "cell_type": "code",
   "execution_count": 2,
   "outputs": [
    {
     "name": "stdout",
     "output_type": "stream",
     "text": [
      "(tensor([ 2.3982e+02,  2.4816e+02,  2.3906e+02,  2.4326e+02,  2.4326e+02,\n",
      "         1.4591e+08,         nan,         nan,         nan,         nan,\n",
      "                nan,         nan,         nan,         nan,         nan,\n",
      "         1.4591e+08,         nan,         nan,         nan,         nan,\n",
      "                nan,         nan,         nan, -1.1438e+07,         nan,\n",
      "         2.4349e+02,  0.0000e+00]), 5)\n"
     ]
    }
   ],
   "source": [
    "import sqlalchemy\n",
    "import pandas as pd\n",
    "import torch as T\n",
    "query =r\"\"\"select Open ,High ,Low ,Close ,\"Adj Close\" ,Volume ,MACD_12_26_9 ,MACDh_12_26_9 ,MACDs_12_26_9 ,RSI_14 ,\"BBL_5_2.0\" ,\"BBM_5_2.0\" ,\"BBU_5_2.0\" ,\"BBB_5_2.0\" ,\"BBP_5_2.0\" ,OBV ,SMA_20 ,EMA_50 ,STOCHk_14_3_3 ,STOCHd_14_3_3 ,ADX_14 ,DMP_14 ,DMN_14 ,AD ,STDEV_30 ,VWAP_D ,PV_DERIVATIVE ,Y_CLOSE5_MAX from STOCK_DAILY WHERE ticker='TSLA'\"\"\"\n",
    "dataset = SqliteDataSet(query=query)\n",
    "data = dataset.__getitem__(0)\n",
    "print(data)\n",
    "\n",
    "# the_engine = sqlalchemy.create_engine('sqlite:///D:\\\\sqlite\\\\data\\\\finance.db')\n",
    "# query = 'select * from STOCK_DAILY where ticker=\\'MARA\\''\n",
    "# with the_engine.connect() as con:\n",
    "#     result = pd.read_sql_query(query,con)\n",
    "#     print(type(result))\n",
    "#     result = result.drop('Date',axis=1)\n",
    "#     result = result.drop('ticker',axis=1)\n",
    "# \n",
    "#     data = result.loc[100]\n",
    "#     print(type(data))\n",
    "#     x = T.tensor(data.drop('Y_CLOSE5_MAX'))\n",
    "#     rate = ( data['Y_CLOSE5_MAX'] - data['Close'] ) / data['Close'] * 100\n",
    "#     if rate > 5:\n",
    "#         y = 5\n",
    "#     elif 2 < rate < 5:\n",
    "#         y = 4\n",
    "#     elif rate < -5:\n",
    "#         y = 1\n",
    "#     elif rate < -2:\n",
    "#         y = 2\n",
    "#     else:\n",
    "#         y = 3\n",
    "#     print(rate)\n",
    "#     print(y)\n",
    "#     print(x.to(T.float32))\n",
    "\n"
   ],
   "metadata": {
    "collapsed": false,
    "ExecuteTime": {
     "end_time": "2023-12-30T22:48:17.397225400Z",
     "start_time": "2023-12-30T22:48:17.317651400Z"
    }
   },
   "id": "7cdc7cdde591f6e9"
  },
  {
   "cell_type": "code",
   "execution_count": null,
   "outputs": [],
   "source": [
    "from torch.utils.data import DataLoader\n"
   ],
   "metadata": {
    "collapsed": false
   },
   "id": "47651bb9099e91e9"
  }
 ],
 "metadata": {
  "kernelspec": {
   "display_name": "Python 3",
   "language": "python",
   "name": "python3"
  },
  "language_info": {
   "codemirror_mode": {
    "name": "ipython",
    "version": 2
   },
   "file_extension": ".py",
   "mimetype": "text/x-python",
   "name": "python",
   "nbconvert_exporter": "python",
   "pygments_lexer": "ipython2",
   "version": "2.7.6"
  }
 },
 "nbformat": 4,
 "nbformat_minor": 5
}
