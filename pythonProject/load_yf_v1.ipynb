{
 "cells": [
  {
   "cell_type": "code",
   "execution_count": 37,
   "outputs": [
    {
     "name": "stdout",
     "output_type": "stream",
     "text": [
      "[*********************100%%**********************]  1 of 1 completed\n"
     ]
    },
    {
     "data": {
      "text/plain": "Open                        28.15\nHigh                    31.299999\nLow                         28.15\nClose                       31.07\nAdj Close                   31.07\nVolume                  106789700\nticker                       MARA\nMACD_12_26_9             4.222537\nMACDh_12_26_9            1.213008\nMACDs_12_26_9            3.009528\nRSI_14                  91.048938\nBBL_5_2.0               20.438145\nBBM_5_2.0                  26.324\nBBU_5_2.0               32.209855\nBBB_5_2.0               44.718545\nBBP_5_2.0                 0.90317\nOBV                  2549685100.0\nSMA_20                     18.596\nEMA_50                  15.317569\nSTOCHk_14_3_3           95.131115\nSTOCHd_14_3_3           93.380251\nADX_14                  61.141067\nDMP_14                  59.541286\nDMN_14                   4.257972\nAD               314176718.616671\nSTDEV_30                 5.796788\nVWAP_D                  30.173333\nName: 2023-12-27 00:00:00, dtype: object"
     },
     "execution_count": 37,
     "metadata": {},
     "output_type": "execute_result"
    }
   ],
   "source": [
    "import yfinance as yf\n",
    "import pandas_ta\n",
    "ticker = \"MARA\"\n",
    "\n",
    "start_date = \"2021-01-01\"\n",
    "\n",
    "\n",
    "# Get the historical data for the ticker\n",
    "\n",
    "stock_data = yf.download(ticker, start=start_date)\n",
    "\n",
    "stock_data[\"ticker\"]=ticker\n",
    "\n",
    "# Calculate technical indicators using pandas-ta\n",
    "stock_data.ta.macd(append=True)\n",
    "stock_data.ta.rsi(append=True)\n",
    "stock_data.ta.bbands(append=True)\n",
    "stock_data.ta.obv(append=True)\n",
    "# \n",
    "# # Calculate additional technical indicators\n",
    "stock_data.ta.sma(length=20, append=True)\n",
    "stock_data.ta.ema(length=50, append=True)\n",
    "stock_data.ta.stoch(append=True)\n",
    "stock_data.ta.adx(append=True)\n",
    "\n",
    "stock_data.ta.ad(append=True)\n",
    "stock_data.ta.stdev(append=True)\n",
    "stock_data.ta.vwap(append=True)\n",
    "# help(stock_data.ta)\n",
    "# stock_data.index\n",
    "# print(stock_data)\n",
    "stock_data.loc['2023-12-27']\n",
    "\n",
    "# print(stock_data)"
   ],
   "metadata": {
    "collapsed": false,
    "ExecuteTime": {
     "end_time": "2023-12-29T15:22:16.501285300Z",
     "start_time": "2023-12-29T15:22:16.092428200Z"
    }
   },
   "id": "a6801a4ac5a63085"
  },
  {
   "cell_type": "code",
   "execution_count": 38,
   "outputs": [
    {
     "name": "stdout",
     "output_type": "stream",
     "text": [
      "                 Open       High        Low      Close  Adj Close     Volume  \\\n",
      "Date                                                                           \n",
      "2021-01-04  12.480000  12.490000  10.530000  11.010000  11.010000   35826600   \n",
      "2021-01-05  10.700000  14.300000  10.690000  13.590000  13.590000   61984100   \n",
      "2021-01-06  14.580000  17.580000  14.250000  16.959999  16.959999   83119900   \n",
      "2021-01-07  20.180000  24.350000  18.549999  22.360001  22.360001  118963600   \n",
      "2021-01-08  25.059999  28.370001  23.799999  26.389999  26.389999   97428200   \n",
      "2021-01-11  20.000000  25.440001  19.600000  23.360001  23.360001   93551100   \n",
      "2021-01-12  24.000000  26.920000  22.809999  26.150000  26.150000   57414200   \n",
      "2021-01-13  22.389999  23.660000  21.650000  23.000000  23.000000   69463000   \n",
      "2021-01-14  25.910000  26.549999  23.730000  24.440001  24.440001   55343600   \n",
      "2021-01-15  23.100000  23.670000  21.850000  22.389999  22.389999   33851100   \n",
      "\n",
      "           ticker  MACD_12_26_9  MACDh_12_26_9  MACDs_12_26_9  ...  \\\n",
      "Date                                                           ...   \n",
      "2021-01-04   MARA           NaN            NaN            NaN  ...   \n",
      "2021-01-05   MARA           NaN            NaN            NaN  ...   \n",
      "2021-01-06   MARA           NaN            NaN            NaN  ...   \n",
      "2021-01-07   MARA           NaN            NaN            NaN  ...   \n",
      "2021-01-08   MARA           NaN            NaN            NaN  ...   \n",
      "2021-01-11   MARA           NaN            NaN            NaN  ...   \n",
      "2021-01-12   MARA           NaN            NaN            NaN  ...   \n",
      "2021-01-13   MARA           NaN            NaN            NaN  ...   \n",
      "2021-01-14   MARA           NaN            NaN            NaN  ...   \n",
      "2021-01-15   MARA           NaN            NaN            NaN  ...   \n",
      "\n",
      "            STOCHd_14_3_3  ADX_14  DMP_14  DMN_14            AD  STDEV_30  \\\n",
      "Date                                                                        \n",
      "2021-01-04            NaN     NaN     NaN     NaN -1.827886e+07       NaN   \n",
      "2021-01-05            NaN     NaN     NaN     NaN  1.932369e+07       NaN   \n",
      "2021-01-06            NaN     NaN     NaN     NaN  7.149199e+07       NaN   \n",
      "2021-01-07            NaN     NaN     NaN     NaN  1.088220e+08       NaN   \n",
      "2021-01-08            NaN     NaN     NaN     NaN  1.218266e+08       NaN   \n",
      "2021-01-11            NaN     NaN     NaN     NaN  1.487385e+08       NaN   \n",
      "2021-01-12            NaN     NaN     NaN     NaN  1.846399e+08       NaN   \n",
      "2021-01-13            NaN     NaN     NaN     NaN  2.084854e+08       NaN   \n",
      "2021-01-14            NaN     NaN     NaN     NaN  1.810099e+08       NaN   \n",
      "2021-01-15            NaN     NaN     NaN     NaN  1.672462e+08       NaN   \n",
      "\n",
      "               VWAP_D  PV_DERIVATIVE  Y_CLOSE5_MAX  Y_CLOSE5_MIN  \n",
      "Date                                                              \n",
      "2021-01-04  11.343333       0.000000     26.389999     13.590000  \n",
      "2021-01-05  12.860000      98.633276     26.389999     16.959999  \n",
      "2021-01-06  16.263333     159.445062     26.389999     22.360001  \n",
      "2021-01-07  21.753333     150.654132     26.389999     23.000000  \n",
      "2021-01-08  26.186666    -187.133686     26.150000     22.389999  \n",
      "2021-01-11  22.800001     781.511640     26.150000     22.350000  \n",
      "2021-01-12  25.293333     -77.206374     24.440001     19.270000  \n",
      "2021-01-13  22.770000    -261.436792     24.440001     17.559999  \n",
      "2021-01-14  24.906666    -101.987374     22.389999     17.559999  \n",
      "2021-01-15  22.636667      95.382163     22.350000     17.559999  \n",
      "\n",
      "[10 rows x 30 columns]\n"
     ]
    },
    {
     "data": {
      "text/plain": "753"
     },
     "execution_count": 38,
     "metadata": {},
     "output_type": "execute_result"
    }
   ],
   "source": [
    "import sqlalchemy\n",
    "import yfinance as yf\n",
    "import pandas as pd\n",
    "\n",
    "# rolling_averages = stock_data.rolling(5).mean()\n",
    "\n",
    "\n",
    "stock_data['PV_DERIVATIVE'] = 0.0\n",
    "# print(len(stock))\n",
    "# print(stock.shape)\n",
    "# stock.at[0,'PV_DERIVATIVE'] = 0\n",
    "# \n",
    "preClose = 0\n",
    "preVolume =0\n",
    "count = 0\n",
    "for i, row in stock_data.iterrows():\n",
    "    if count > 0 :\n",
    "        absDerivative = (row['Close'] - preClose)/(row['Volume'] - preVolume)\n",
    "        normDerivative = absDerivative * 1000000000\n",
    "        stock_data.at[i,'PV_DERIVATIVE'] = round(normDerivative,6)\n",
    "    preVolume = row['Volume']\n",
    "    preClose = row['Close']\n",
    "    count += 1\n",
    "\n",
    "\n",
    "# stock_data.reset_index(inplace=True)\n",
    "# print(stock_data['Close'])\n",
    "\n",
    "\n",
    "stock_data['Y_CLOSE5_MAX'] = stock_data['Close'].rolling(5).max().shift(-5)     \n",
    "stock_data['Y_CLOSE5_MIN'] = stock_data['Close'].rolling(5).min().shift(-5)     \n",
    "\n",
    "\n",
    "print(stock_data.head(10))\n",
    "\n",
    "\n",
    "# print(stock.loc[0,:])\n",
    "# print(stock.loc[1,:])\n",
    "# print(stock.loc[808,:])\n",
    "# print(stock.loc[[808]])\n",
    "# print(type(stock))\n",
    "\n",
    "engine = sqlalchemy.create_engine('sqlite:///D:\\\\sqlite\\\\data\\\\finance.db')\n",
    "\n",
    "stock_data.to_sql('STOCK_DAILY',engine,if_exists='append')\n",
    "# stock_data.to_sql('STOCK_DAILY',engine,if_exists='replace')\n",
    "# stock.to_sql('STOCK_L1',engine)\n",
    "# print(stock['PV_DERIVATIVE'])\n",
    "\n",
    "\n",
    "\n",
    "  \n"
   ],
   "metadata": {
    "collapsed": false,
    "ExecuteTime": {
     "end_time": "2023-12-29T15:22:24.710819900Z",
     "start_time": "2023-12-29T15:22:20.082429200Z"
    }
   },
   "id": "initial_id"
  },
  {
   "cell_type": "code",
   "execution_count": null,
   "outputs": [],
   "source": [],
   "metadata": {
    "collapsed": false
   },
   "id": "12ed2ea56d434f32"
  }
 ],
 "metadata": {
  "kernelspec": {
   "display_name": "Python 3",
   "language": "python",
   "name": "python3"
  },
  "language_info": {
   "codemirror_mode": {
    "name": "ipython",
    "version": 2
   },
   "file_extension": ".py",
   "mimetype": "text/x-python",
   "name": "python",
   "nbconvert_exporter": "python",
   "pygments_lexer": "ipython2",
   "version": "2.7.6"
  }
 },
 "nbformat": 4,
 "nbformat_minor": 5
}
