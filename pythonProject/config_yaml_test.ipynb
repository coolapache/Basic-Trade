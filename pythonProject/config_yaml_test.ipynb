{
 "cells": [
  {
   "cell_type": "code",
   "execution_count": 9,
   "id": "initial_id",
   "metadata": {
    "collapsed": true,
    "ExecuteTime": {
     "end_time": "2024-02-11T16:20:27.158412800Z",
     "start_time": "2024-02-11T16:20:27.151518Z"
    }
   },
   "outputs": [
    {
     "name": "stdout",
     "output_type": "stream",
     "text": [
      "['PLTR', 'DUOL', 'CRWD', True, 'SMCI', 'GOOG', 'AMZN', 'MSFT', 'SNPS', 'AMGN']\n",
      "<class 'list'>\n"
     ]
    }
   ],
   "source": [
    "import yaml\n",
    "\n",
    "tickers=[]\n",
    "with open(\"config.yaml\",\"r\") as config:\n",
    "    data = yaml.load(config,yaml.Loader)\n",
    "    print(data['ticker_list'])\n",
    "    print(type(data['ticker_list']))\n",
    "\n"
   ]
  },
  {
   "cell_type": "code",
   "execution_count": 13,
   "outputs": [],
   "source": [],
   "metadata": {
    "collapsed": false,
    "ExecuteTime": {
     "end_time": "2024-02-11T15:28:46.423338500Z",
     "start_time": "2024-02-11T15:28:46.407663600Z"
    }
   },
   "id": "3296610f7e4ba409"
  },
  {
   "cell_type": "code",
   "execution_count": 13,
   "outputs": [],
   "source": [],
   "metadata": {
    "collapsed": false,
    "ExecuteTime": {
     "end_time": "2024-02-11T15:29:06.984175700Z",
     "start_time": "2024-02-11T15:29:06.968485800Z"
    }
   },
   "id": "8db8c8deeb4309c6"
  },
  {
   "cell_type": "code",
   "execution_count": null,
   "outputs": [],
   "source": [],
   "metadata": {
    "collapsed": false
   },
   "id": "9268112f179067b5"
  }
 ],
 "metadata": {
  "kernelspec": {
   "display_name": "Python 3",
   "language": "python",
   "name": "python3"
  },
  "language_info": {
   "codemirror_mode": {
    "name": "ipython",
    "version": 2
   },
   "file_extension": ".py",
   "mimetype": "text/x-python",
   "name": "python",
   "nbconvert_exporter": "python",
   "pygments_lexer": "ipython2",
   "version": "2.7.6"
  }
 },
 "nbformat": 4,
 "nbformat_minor": 5
}
