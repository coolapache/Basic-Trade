{
 "cells": [
  {
   "cell_type": "code",
   "execution_count": 3,
   "outputs": [],
   "source": [
    "import pandas as pd\n",
    "import sqlalchemy\n",
    "import pandas_ta\n",
    "from sklearn.preprocessing import normalize, StandardScaler\n",
    "from sklearn.metrics import confusion_matrix\n",
    "def ticker_preprocess(result_set):\n",
    "    result_set.set_index('Date',inplace=True)\n",
    "    result_set.ta.vwma(close='Adj Close', append=True, length=5)\n",
    "    result_set.ta.vwma(close='Adj Close', append=True, length=20)\n",
    "    result_set.ta.vwma(close='Adj Close', append=True, length=90)\n",
    "    result_set.ta.mfi(close='Adj Close', append=True)\n",
    "    result_set.ta.macd(append=True)\n",
    "    result_set.ta.rsi(append=True)\n",
    "    result_set.ta.bbands(append=True)\n",
    "    result_set.ta.obv(append=True)\n",
    "    result_set.ta.sma(length=20, append=True)\n",
    "    result_set.ta.ema(length=50, append=True)\n",
    "    result_set.ta.stoch(append=True)\n",
    "    result_set.ta.adx(append=True)\n",
    "    result_set.ta.ad(append=True)\n",
    "    result_set.ta.stdev(append=True)\n",
    "    \n",
    "    result_set['Y_CLOSE5_MAX'] = result_set['Adj Close'].rolling(5).max().shift(-5)\n",
    "    result_set['Y_CLOSE5_MIN'] = result_set['Adj Close'].rolling(5).min().shift(-5)\n",
    "    \n",
    "    result_set['Volume_5'] = result_set['Volume'].rolling(5).mean()\n",
    "    result_set['Volume_20'] = result_set['Volume'].rolling(20).mean()\n",
    "    result_set['Volume_90'] = result_set['Volume'].rolling(90).mean()\n",
    "\n",
    "    result_set['delta_p5'] = result_set['Adj Close'] - result_set['VWMA_5']\n",
    "    result_set['delta_p20'] = result_set['Adj Close'] - result_set['VWMA_20']\n",
    "    result_set['delta_p90'] = result_set['Adj Close'] - result_set['VWMA_90']\n",
    "\n",
    "    result_set['delta_v5'] = result_set['Volume'] - result_set['Volume_5']\n",
    "    result_set['delta_v20'] = result_set['Volume'] - result_set['Volume_20']\n",
    "    result_set['delta_v90'] = result_set['Volume'] - result_set['Volume_90']\n",
    "    \n",
    "    result_set['PV_DELTA_R5'] = result_set['delta_p5'] /result_set['delta_v5'] \n",
    "    result_set['PV_DELTA_R20'] = result_set['delta_p20'] /result_set['delta_v20'] \n",
    "    result_set['PV_DELTA_R90'] = result_set['delta_p90'] /result_set['delta_v90'] \n",
    "\n",
    "    result_set['PV_DELTA_R20_PRIOR1'] = result_set['PV_DELTA_R20'].shift(1)\n",
    "    result_set['PV_DELTA_R20_PRIOR2'] = result_set['PV_DELTA_R20'].shift(2)\n",
    "    result_set['PV_DELTA_R20_PRIOR3'] = result_set['PV_DELTA_R20'].shift(3)\n",
    "    result_set['PV_DELTA_R20_PRIOR4'] = result_set['PV_DELTA_R20'].shift(4)\n",
    "    result_set['PV_DELTA_R20_PRIOR5'] = result_set['PV_DELTA_R20'].shift(5)\n",
    "    \n",
    "    engine = sqlalchemy.create_engine('sqlite:///D:\\\\sqlite\\\\data\\\\finance.db')\n",
    "    result_set.to_sql('STOCK_D_X', engine, if_exists='append')\n",
    "    engine.dispose()\n",
    "    \n"
   ],
   "metadata": {
    "collapsed": false,
    "ExecuteTime": {
     "end_time": "2024-03-13T21:34:50.842779500Z",
     "start_time": "2024-03-13T21:34:50.832776200Z"
    }
   },
   "id": "a6801a4ac5a63085"
  },
  {
   "cell_type": "code",
   "execution_count": 4,
   "outputs": [],
   "source": [
    "query = '''\n",
    "SELECT * FROM STOCK_D_BASIC\n",
    "'''\n",
    "sqlengine = sqlalchemy.create_engine('sqlite:///D:\\\\sqlite\\\\data\\\\finance.db')\n",
    "result_set = pd.read_sql_query(query, sqlengine.connect())\n",
    "grouped = result_set.groupby(['ticker'])\n",
    "sqlengine.dispose()\n",
    "for name, group in grouped:\n",
    "    group = ticker_preprocess(group)\n",
    "\n",
    "\n",
    "  \n"
   ],
   "metadata": {
    "collapsed": false,
    "ExecuteTime": {
     "end_time": "2024-03-13T21:35:05.686367700Z",
     "start_time": "2024-03-13T21:34:59.939810300Z"
    }
   },
   "id": "initial_id"
  },
  {
   "cell_type": "code",
   "execution_count": null,
   "outputs": [],
   "source": [],
   "metadata": {
    "collapsed": false
   },
   "id": "12ed2ea56d434f32"
  },
  {
   "cell_type": "code",
   "execution_count": null,
   "outputs": [],
   "source": [],
   "metadata": {
    "collapsed": false
   },
   "id": "331c4e3236ac464e"
  }
 ],
 "metadata": {
  "kernelspec": {
   "display_name": "Python 3",
   "language": "python",
   "name": "python3"
  },
  "language_info": {
   "codemirror_mode": {
    "name": "ipython",
    "version": 2
   },
   "file_extension": ".py",
   "mimetype": "text/x-python",
   "name": "python",
   "nbconvert_exporter": "python",
   "pygments_lexer": "ipython2",
   "version": "2.7.6"
  }
 },
 "nbformat": 4,
 "nbformat_minor": 5
}
