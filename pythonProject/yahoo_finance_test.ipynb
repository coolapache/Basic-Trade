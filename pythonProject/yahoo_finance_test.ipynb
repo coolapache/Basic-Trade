{
 "cells": [
  {
   "cell_type": "code",
   "execution_count": 1,
   "outputs": [
    {
     "name": "stdout",
     "output_type": "stream",
     "text": [
      "[*********************100%%**********************]  1 of 1 completed\n",
      "<class 'numpy.ndarray'>\n"
     ]
    }
   ],
   "source": [
    "import yfinance as yf\n",
    "import pandas_ta\n",
    "from sklearn.preprocessing import MinMaxScaler\n",
    "from sklearn.preprocessing import StandardScaler\n",
    "from sklearn.compose import ColumnTransformer\n",
    "\n",
    "ticker = \"AAPL\"\n",
    "\n",
    "start_date = \"2022-12-01\"\n",
    "\n",
    "end_date = \"2024-01-02\"\n",
    "\n",
    "# Get the historical data for the ticker\n",
    "\n",
    "stock_data = yf.download(ticker, start=start_date, end=end_date)\n",
    "\n",
    "# Calculate technical indicators using pandas-ta\n",
    "stock_data.ta.macd(append=True)\n",
    "stock_data.ta.midpoint(append=True)\n",
    "stock_data.ta.midprice(append=True)\n",
    "stock_data.ta.vwap(append=True)\n",
    "stock_data.ta.vwma(append=True)\n",
    "stock_data.ta.vwma(append=True,length=20)\n",
    "stock_data.ta.mfi(append=True)\n",
    "stock_data['DELTA_10'] = stock_data['Close'] - stock_data['VWMA_10']\n",
    "\n",
    "stock_data.reset_index(drop=True,inplace=True)\n",
    "\n",
    "sd_scaler = StandardScaler()\n",
    "# ct = ColumnTransformer([\n",
    "#         ('somename', StandardScaler(), ['DELTA_10'])\n",
    "#     ], remainder='passthrough')\n",
    "# \n",
    "# feature = stock_data['DELTA_10'].to_frame()\n",
    "# \n",
    "# sd_delta = ct.fit_transform(feature)\n",
    "# print(sd_delta)\n",
    "sd_delta = sd_scaler.fit_transform(stock_data)\n",
    "\n",
    "print(type(sd_delta))\n",
    "# print(feature)\n",
    "# print(type(feature))\n",
    "\n",
    "# stock_data.ta.rsi(append=True)\n",
    "# stock_data.ta.bbands(append=True)\n",
    "# stock_data.ta.obv(append=True)\n",
    "# # \n",
    "# # # Calculate additional technical indicators\n",
    "# stock_data.ta.sma(length=20, append=True)\n",
    "# stock_data.ta.ema(length=50, append=True)\n",
    "# stock_data.ta.stoch(append=True)\n",
    "# stock_data.ta.adx(append=True)\n",
    "# \n",
    "# stock_data.ta.ad(append=True)\n",
    "# stock_data.ta.stdev(append=True)\n",
    "# stock_data.ta.vwap(append=True)\n",
    "# help(stock_data.ta)\n",
    "# stock_data.index\n",
    "# print(stock_data)\n",
    "# stock_data.loc['2022-04-19']\n",
    "\n",
    "# print(stock_data)"
   ],
   "metadata": {
    "collapsed": false,
    "ExecuteTime": {
     "end_time": "2024-01-28T17:10:10.453840200Z",
     "start_time": "2024-01-28T17:09:48.074547900Z"
    }
   },
   "id": "a6801a4ac5a63085"
  },
  {
   "cell_type": "code",
   "execution_count": 2,
   "outputs": [
    {
     "ename": "AttributeError",
     "evalue": "module 'yfinance' has no attribute 'TA'",
     "output_type": "error",
     "traceback": [
      "\u001B[1;31m---------------------------------------------------------------------------\u001B[0m",
      "\u001B[1;31mAttributeError\u001B[0m                            Traceback (most recent call last)",
      "Cell \u001B[1;32mIn[2], line 13\u001B[0m\n\u001B[0;32m     10\u001B[0m stock \u001B[38;5;241m=\u001B[39m yf\u001B[38;5;241m.\u001B[39mTicker(ticker)\n\u001B[0;32m     11\u001B[0m stock \u001B[38;5;241m=\u001B[39m stock\u001B[38;5;241m.\u001B[39mhistory(period\u001B[38;5;241m=\u001B[39m\u001B[38;5;124m\"\u001B[39m\u001B[38;5;124mmax\u001B[39m\u001B[38;5;124m\"\u001B[39m)\n\u001B[1;32m---> 13\u001B[0m rsi \u001B[38;5;241m=\u001B[39m \u001B[43myf\u001B[49m\u001B[38;5;241;43m.\u001B[39;49m\u001B[43mTA\u001B[49m\u001B[38;5;241m.\u001B[39mRSI(stock)\n\u001B[0;32m     14\u001B[0m \u001B[38;5;28mprint\u001B[39m(rsi)\n\u001B[0;32m     17\u001B[0m \u001B[38;5;66;03m# Set the ticker symbol and the start and end dates\u001B[39;00m\n\u001B[0;32m     18\u001B[0m \n\u001B[0;32m     19\u001B[0m \u001B[38;5;66;03m# ticker = \"AAPL\"\u001B[39;00m\n\u001B[1;32m   (...)\u001B[0m\n\u001B[0;32m     34\u001B[0m \u001B[38;5;66;03m# \u001B[39;00m\n\u001B[0;32m     35\u001B[0m \u001B[38;5;66;03m# print(rsi)\u001B[39;00m\n",
      "\u001B[1;31mAttributeError\u001B[0m: module 'yfinance' has no attribute 'TA'"
     ]
    }
   ],
   "source": [
    "import sqlalchemy\n",
    "import yfinance as yf\n",
    "import pandas as pd\n",
    "import pandas_ta\n",
    "from sklearn.preprocessing import MinMaxScaler\n",
    "from sklearn.preprocessing import StandardScaler\n",
    "from sklearn.compose import ColumnTransformer\n",
    "\n",
    "ticker='PLTR'\n",
    "stock = yf.Ticker(ticker)\n",
    "stock = stock.history(period=\"max\")\n",
    "\n",
    "rsi = yf.TA.RSI(stock)\n",
    "print(rsi)\n",
    "\n",
    "\n",
    "# Set the ticker symbol and the start and end dates\n",
    "\n",
    "# ticker = \"AAPL\"\n",
    "# \n",
    "# start_date = \"2022-01-01\"\n",
    "# \n",
    "# end_date = \"2022-04-25\"\n",
    "# \n",
    "# # Get the historical data for the ticker\n",
    "# \n",
    "# ticker_data = yf.download(ticker, start=start_date, end=end_date)\n",
    "# \n",
    "# # Calculate the RSI for the ticker data\n",
    "# \n",
    "# rsi = yf.TA.RSI(ticker_data)\n",
    "# \n",
    "# # Print the RSI\n",
    "# \n",
    "# print(rsi)\n",
    "\n",
    "rolling_averages = stock.rolling(5).mean()\n",
    "\n",
    "\n",
    "stock[\"RollingClose_5\"] = rolling_averages[\"Close\"]\n",
    "\n",
    "stock[\"RollingVolume_5\"] = rolling_averages[\"Volume\"]\n",
    "\n",
    "\n",
    "rolling_averages = stock.rolling(120).mean()\n",
    "stock[\"RollingClose_120\"] = rolling_averages[\"Close\"]\n",
    "stock[\"RollingVolume_120\"] = rolling_averages[\"Volume\"]\n",
    "stock[\"ticker\"]=ticker\n",
    "stock['PV_DERIVATIVE'] = 0.0\n",
    "# print(len(stock))\n",
    "# print(stock.shape)\n",
    "# stock.at[0,'PV_DERIVATIVE'] = 0\n",
    "# \n",
    "preClose = 0\n",
    "preVolume =0\n",
    "count = 0\n",
    "for i, row in stock.iterrows():\n",
    "    if count > 0 :\n",
    "        absDerivative = (row['Close'] - preClose)/(row['Volume'] - preVolume)\n",
    "        # normDerivative = absDerivative /stock.iloc[i].loc['RollingClose_120'] * stock.loc[i,'RollingVolume_120']\n",
    "        normDerivative = absDerivative * 1000000000\n",
    "        stock.at[i,'PV_DERIVATIVE'] = round(normDerivative,6)\n",
    "    preVolume = row['Volume']\n",
    "    preClose = row['Close']\n",
    "    count += 1\n",
    "\n",
    "    # print(round(normDerivative,6))\n",
    "\n",
    "\n",
    "# print(stock.loc[0,:])\n",
    "# print(stock.loc[1,:])\n",
    "# print(stock.loc[808,:])\n",
    "# print(stock.loc[[808]])\n",
    "# print(type(stock))\n",
    "\n",
    "engine = sqlalchemy.create_engine('sqlite:///D:\\\\sqlite\\\\data\\\\finance.db')\n",
    "\n",
    "stock.to_sql('STOCK_L1',engine,if_exists='append')\n",
    "# stock.to_sql('STOCK_L1',engine)\n",
    "# print(stock['PV_DERIVATIVE'])\n",
    "\n",
    "\n",
    "\n",
    "  \n"
   ],
   "metadata": {
    "collapsed": false,
    "ExecuteTime": {
     "end_time": "2024-01-31T17:42:40.133665200Z",
     "start_time": "2024-01-31T17:42:37.118012800Z"
    }
   },
   "id": "initial_id"
  },
  {
   "cell_type": "code",
   "execution_count": 1,
   "outputs": [
    {
     "name": "stdout",
     "output_type": "stream",
     "text": [
      "   Name  Age  Weight\n",
      "0     3   18      68\n",
      "1     4   92      59\n",
      "2     6   98      49\n",
      "<class 'pandas.core.frame.DataFrame'>\n"
     ]
    },
    {
     "data": {
      "text/plain": "array([[-1.41100443,  1.20270298,  3.        ],\n       [ 0.62304092,  0.04295368,  4.        ],\n       [ 0.78796352, -1.24565666,  6.        ]])"
     },
     "execution_count": 1,
     "metadata": {},
     "output_type": "execute_result"
    }
   ],
   "source": [
    "import pandas as pd\n",
    "data = pd.DataFrame({'Name' : [3, 4,6], 'Age' : [18, 92,98], 'Weight' : [68, 59,49]})\n",
    "\n",
    "col_names = ['Name', 'Age', 'Weight']\n",
    "features = data[col_names]\n",
    "\n",
    "print(features)\n",
    "print(type(features))\n",
    "\n",
    "from sklearn.compose import ColumnTransformer\n",
    "from sklearn.preprocessing import StandardScaler\n",
    "\n",
    "ct = ColumnTransformer([\n",
    "        ('somename', StandardScaler(), ['Age', 'Weight'])\n",
    "    ], remainder='passthrough')\n",
    "\n",
    "ct.fit_transform(features)"
   ],
   "metadata": {
    "collapsed": false,
    "ExecuteTime": {
     "end_time": "2024-01-03T23:57:52.143226500Z",
     "start_time": "2024-01-03T23:57:51.277967900Z"
    }
   },
   "id": "1c1df9b4c862797c"
  },
  {
   "cell_type": "code",
   "execution_count": null,
   "outputs": [],
   "source": [],
   "metadata": {
    "collapsed": false
   },
   "id": "11ff3399eb9763a2"
  }
 ],
 "metadata": {
  "kernelspec": {
   "display_name": "Python 3",
   "language": "python",
   "name": "python3"
  },
  "language_info": {
   "codemirror_mode": {
    "name": "ipython",
    "version": 2
   },
   "file_extension": ".py",
   "mimetype": "text/x-python",
   "name": "python",
   "nbconvert_exporter": "python",
   "pygments_lexer": "ipython2",
   "version": "2.7.6"
  }
 },
 "nbformat": 4,
 "nbformat_minor": 5
}
