{
 "cells": [
  {
   "cell_type": "code",
   "execution_count": null,
   "id": "initial_id",
   "metadata": {
    "collapsed": true
   },
   "outputs": [],
   "source": []
  },
  {
   "cell_type": "code",
   "execution_count": 15,
   "outputs": [
    {
     "name": "stdout",
     "output_type": "stream",
     "text": [
      "they are equal\n"
     ]
    }
   ],
   "source": [
    "import pandas as pd\n",
    "import sqlalchemy\n",
    "import pandas_ta\n",
    "from datetime import date,datetime\n",
    "sqlengine = sqlalchemy.create_engine('sqlite:///D:\\\\sqlite\\\\data\\\\finance.db')\n",
    "query = r\"\"\"select max(date) as preDate from option_daily\"\"\"\n",
    "result_set = pd.read_sql_query(query, sqlengine.connect())\n",
    "\n",
    "predate = result_set.iloc[0][\"preDate\"]\n",
    "today = date.fromisoformat('2024-02-13').isoformat()\n",
    "\n",
    "if today ==  predate:\n",
    "    print(\"they are equal\")\n",
    "\n"
   ],
   "metadata": {
    "collapsed": false,
    "ExecuteTime": {
     "end_time": "2024-02-14T19:54:49.687955300Z",
     "start_time": "2024-02-14T19:54:49.634613Z"
    }
   },
   "id": "89bfb6c1821e2494"
  },
  {
   "cell_type": "code",
   "execution_count": null,
   "outputs": [],
   "source": [],
   "metadata": {
    "collapsed": false
   },
   "id": "211f487cbffa07e9"
  }
 ],
 "metadata": {
  "kernelspec": {
   "display_name": "Python 3",
   "language": "python",
   "name": "python3"
  },
  "language_info": {
   "codemirror_mode": {
    "name": "ipython",
    "version": 2
   },
   "file_extension": ".py",
   "mimetype": "text/x-python",
   "name": "python",
   "nbconvert_exporter": "python",
   "pygments_lexer": "ipython2",
   "version": "2.7.6"
  }
 },
 "nbformat": 4,
 "nbformat_minor": 5
}
