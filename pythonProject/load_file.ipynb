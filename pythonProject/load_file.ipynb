{
 "cells": [
  {
   "cell_type": "code",
   "execution_count": 1,
   "id": "initial_id",
   "metadata": {
    "collapsed": true,
    "ExecuteTime": {
     "end_time": "2024-01-09T22:11:25.481244100Z",
     "start_time": "2024-01-09T22:11:18.959100100Z"
    }
   },
   "outputs": [
    {
     "data": {
      "text/plain": "2099"
     },
     "execution_count": 1,
     "metadata": {},
     "output_type": "execute_result"
    }
   ],
   "source": [
    "import sqlalchemy\n",
    "import pandas as pd\n",
    "import xlrd\n",
    "\n",
    " \n",
    "aaii = pd.read_excel(\"./data/sentiment.xls\")\n",
    "aaii = aaii.iloc[4:]\n",
    "\n",
    "aaii.columns = ['DATE', 'BULLISH', 'NEUTRAL', 'BEARISH', 'TOTAL','MOV_AVG_8W','BULL_BEAR_SPREAD','BULLISH_AVG','BULL_AVG_ADD_STDEV','BULL_AVG_MIN_STDEV','SP500_WEEK_HIGH','SP500_WEEK_LOW','SP500_WEEK_CLOSE']\n",
    "engine = sqlalchemy.create_engine('sqlite:///D:\\\\sqlite\\\\data\\\\finance.db')\n",
    "\n",
    "aaii.to_sql('AAII_SENTIMENT',engine,if_exists='replace')\n",
    "\n",
    "\n",
    "# aaii.rename(columns={'date': 'Bullish', 'Neutral': 'Bearish'}, inplace=True)"
   ]
  },
  {
   "cell_type": "code",
   "execution_count": null,
   "outputs": [],
   "source": [],
   "metadata": {
    "collapsed": false
   },
   "id": "1699c4bc4089717a"
  }
 ],
 "metadata": {
  "kernelspec": {
   "display_name": "Python 3",
   "language": "python",
   "name": "python3"
  },
  "language_info": {
   "codemirror_mode": {
    "name": "ipython",
    "version": 2
   },
   "file_extension": ".py",
   "mimetype": "text/x-python",
   "name": "python",
   "nbconvert_exporter": "python",
   "pygments_lexer": "ipython2",
   "version": "2.7.6"
  }
 },
 "nbformat": 4,
 "nbformat_minor": 5
}
